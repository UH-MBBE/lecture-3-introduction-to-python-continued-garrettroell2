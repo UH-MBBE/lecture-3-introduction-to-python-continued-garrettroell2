{
 "cells": [
  {
   "cell_type": "markdown",
   "metadata": {},
   "source": [
    "# Lecture 3 Activity: Writing Functions"
   ]
  },
  {
   "cell_type": "markdown",
   "metadata": {},
   "source": [
    "### Problem 1: Write a function to calculate the GC fraction of a DNA sequence\n",
    "\n",
    "Write a function that takes a DNA sequence string as input and returns the GC fraction.\n",
    "\n",
    "Name your function `gc_fraction()`. Inside the function, you can use the approach we used last week:\n",
    "\n",
    "1. Initialize a G/C nucleotide count to zero.\n",
    "\n",
    "2. Run a `for` loop over each character in the DNA sequence string.\n",
    "\n",
    "3. In the block of the `for` loop, use an `if` statement to determine whether the current character is a G or C. (A better function will check for both upper and lower case letters.\n",
    "\n",
    "4. Once the `for` loop has finished, `return` the GC fraction, which is the sum of G and C bases divided by the total number of bases in the sequence."
   ]
  },
  {
   "cell_type": "code",
   "execution_count": null,
   "metadata": {},
   "outputs": [],
   "source": [
    "# Write a function called gc_fraction below. Run the cell to define the function.\n"
   ]
  },
  {
   "cell_type": "code",
   "execution_count": null,
   "metadata": {},
   "outputs": [],
   "source": [
    "# Test your function in this cell. Change the sequence to try different GC values.\n",
    "dna = 'GTGCATGTTTGTCGGATGAGCCTAAACTAGGGAGGTCAGCCAGGGTT'\n",
    "gc_fraction(dna)"
   ]
  },
  {
   "cell_type": "code",
   "execution_count": null,
   "metadata": {},
   "outputs": [],
   "source": [
    "# Check your answer\n",
    "seq1 = 'GCGCGCCCCCGGCGGCG'\n",
    "seq2 = 'ATAAATTATATTAAAAT'\n",
    "seq3 = 'ACGATGCTATTGCGATGCGATTGGGATTTCGATTGCGATGCGATTGCATGC'\n",
    "\n",
    "assert gc_fraction(seq1) == 1\n",
    "assert gc_fraction(seq2) == 0\n",
    "assert 0.489 < gc_fraction(seq3) < 0.491"
   ]
  },
  {
   "cell_type": "markdown",
   "metadata": {},
   "source": [
    "## Problem 2: Write a function to calculate squared differences between two lists\n",
    "\n",
    "In the cell below, write a function called `squared_diffs()` that does the following:\n",
    "\n",
    "1. Accepts two arguments, a mean (set the default value to 0), and a list of data.\n",
    "\n",
    "2. Loop over the data points in the list, calculate the squared difference from the mean, and append the result to a new list of squared differences.\n",
    "\n",
    "3. Return the list of squared differences.\n",
    "\n",
    "**NOTE:** This function will take one argument with a default value (`mean`) and one with out a default (the list of data). In Python function definitions, arguments with defaults *always* come after arguments without defaults in between the parentheses. You'll get an error message if the arguments are in the wrong order."
   ]
  },
  {
   "cell_type": "code",
   "execution_count": null,
   "metadata": {},
   "outputs": [],
   "source": [
    "# write the squared_diffs function here"
   ]
  },
  {
   "cell_type": "code",
   "execution_count": null,
   "metadata": {},
   "outputs": [],
   "source": [
    "some_data = [23, 145, 203, 235, 354, 456]\n",
    "\n",
    "# Then try using the default mean (only put the list variable between the parentheses).\n",
    "\n",
    "\n",
    "# Try out your function. Try using a mean argument.\n",
    "\n"
   ]
  },
  {
   "cell_type": "code",
   "execution_count": null,
   "metadata": {},
   "outputs": [],
   "source": [
    "# Check your answer\n",
    "more_data = [4, 13, 33, 44, 114, 86, 27, 17]\n",
    "zero_mean = squared_diffs(more_data)\n",
    "nonsero_mean = squared_diffs(more_data, 33)\n",
    "assert zero_mean[3] == 1936\n",
    "assert nonsero_mean[7] == 256"
   ]
  },
  {
   "cell_type": "markdown",
   "metadata": {},
   "source": [
    "### Problem 3: Coin Toss Simulation Function\n",
    "\n",
    "Write a function called coin_tosses, to simulate n coin tosses and return a list of outcomes ('heads' or 'tails'). Each toss has a probability p of resulting in 'heads'. Use random.random() for generating random numbers.\n",
    "\n",
    "Function Requirements:\n",
    "\n",
    "- Import the random module.\n",
    "- Define coin tosses to take two default arguments \n",
    "  - n: Number of tosses (default = 10).\n",
    "  - p: Probability of 'heads' (default = 0.5).\n",
    "- Generate outcomes using random.random(): Append 'heads' if random number < p, else 'tails'.\n",
    "- Return the list of outcomes."
   ]
  },
  {
   "cell_type": "code",
   "execution_count": null,
   "metadata": {},
   "outputs": [],
   "source": [
    "# import random module\n",
    "\n",
    "# write coin_tosses function here."
   ]
  },
  {
   "cell_type": "code",
   "execution_count": null,
   "metadata": {},
   "outputs": [],
   "source": [
    "# Try your function with different argument values\n",
    "\n",
    "print(coin_tosses(p = 0.4))"
   ]
  },
  {
   "cell_type": "code",
   "execution_count": null,
   "metadata": {},
   "outputs": [],
   "source": [
    "# check your function\n",
    "tosses = coin_tosses(30, 0.8)\n",
    "assert len(tosses) == 30\n",
    "assert tosses.count('heads') > 0 # should work nearly all of the time\n",
    "assert len(coin_tosses()) == 10"
   ]
  },
  {
   "cell_type": "markdown",
   "metadata": {},
   "source": [
    "### END ACTIVITY "
   ]
  }
 ],
 "metadata": {
  "kernelspec": {
   "display_name": "Python 3",
   "language": "python",
   "name": "python3"
  },
  "language_info": {
   "codemirror_mode": {
    "name": "ipython",
    "version": 3
   },
   "file_extension": ".py",
   "mimetype": "text/x-python",
   "name": "python",
   "nbconvert_exporter": "python",
   "pygments_lexer": "ipython3",
   "version": "3.7.3"
  }
 },
 "nbformat": 4,
 "nbformat_minor": 2
}
