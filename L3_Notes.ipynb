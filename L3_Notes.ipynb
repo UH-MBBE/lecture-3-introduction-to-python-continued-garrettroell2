{
 "cells": [
  {
   "cell_type": "markdown",
   "metadata": {},
   "source": [
    "# Lecture 3 Topics\n",
    "\n",
    "- the `enumerate` function\n",
    "- the `tuple` data type\n",
    "- introduction to `functions`\n",
    "- the `None` value in Python"
   ]
  },
  {
   "cell_type": "markdown",
   "metadata": {},
   "source": [
    "### The enumerate function"
   ]
  },
  {
   "cell_type": "code",
   "execution_count": 1,
   "metadata": {},
   "outputs": [
    {
     "name": "stdout",
     "output_type": "stream",
     "text": [
      "adenine\n",
      "cytosine\n",
      "guanine\n",
      "thymine\n"
     ]
    }
   ],
   "source": [
    "nucleotides = ['adenine', 'cytosine', 'guanine', 'thymine']\n",
    "\n",
    "# write a loop to print the four nucleotides\n",
    "for nucleotide in nucleotides:\n",
    "    print(nucleotide)\n"
   ]
  },
  {
   "cell_type": "code",
   "execution_count": 2,
   "metadata": {},
   "outputs": [
    {
     "name": "stdout",
     "output_type": "stream",
     "text": [
      "0 adenine\n",
      "1 cytosine\n",
      "2 guanine\n",
      "3 thymine\n"
     ]
    }
   ],
   "source": [
    "nucleotides = ['adenine', 'cytosine', 'guanine', 'thymine']\n",
    "\n",
    "# write a loop using the enumerate function to print the index and name of each nucleotide\n",
    "for index, nucleotide in enumerate(nucleotides):\n",
    "    print(index, nucleotide)"
   ]
  },
  {
   "cell_type": "code",
   "execution_count": 4,
   "metadata": {},
   "outputs": [
    {
     "name": "stdout",
     "output_type": "stream",
     "text": [
      "(0, 'adenine')\n",
      "0\n",
      "\n",
      "(1, 'cytosine')\n",
      "1\n",
      "\n",
      "(2, 'guanine')\n",
      "2\n",
      "\n",
      "(3, 'thymine')\n",
      "3\n",
      "\n"
     ]
    }
   ],
   "source": [
    "nucleotides = ['adenine', 'cytosine', 'guanine', 'thymine']\n",
    "\n",
    "# print the list of values returned by the enumerate function\n",
    "for value in enumerate(nucleotides):\n",
    "    print(value)\n",
    "    print(value[0])\n",
    "    print()"
   ]
  },
  {
   "cell_type": "markdown",
   "metadata": {},
   "source": [
    "### Tuples - a list like data type\n",
    "Tuples hold ordered items like a list, but between parentheses."
   ]
  },
  {
   "cell_type": "code",
   "execution_count": 7,
   "metadata": {},
   "outputs": [
    {
     "data": {
      "text/plain": [
       "'T'"
      ]
     },
     "execution_count": 7,
     "metadata": {},
     "output_type": "execute_result"
    }
   ],
   "source": [
    "nucleotides_tuple = ('A', 'C', 'G','T')\n",
    "\n",
    "# print the first item in nucleotides_tuple\n",
    "nucleotides_tuple[3]"
   ]
  },
  {
   "cell_type": "code",
   "execution_count": 8,
   "metadata": {},
   "outputs": [
    {
     "ename": "TypeError",
     "evalue": "'tuple' object does not support item assignment",
     "output_type": "error",
     "traceback": [
      "\u001b[0;31m---------------------------------------------------------------------------\u001b[0m",
      "\u001b[0;31mTypeError\u001b[0m                                 Traceback (most recent call last)",
      "Cell \u001b[0;32mIn[8], line 2\u001b[0m\n\u001b[1;32m      1\u001b[0m \u001b[38;5;66;03m# try to set the fourth item of nucleotides_tuple to 'U'. Why did you get an error?\u001b[39;00m\n\u001b[0;32m----> 2\u001b[0m \u001b[43mnucleotides_tuple\u001b[49m\u001b[43m[\u001b[49m\u001b[38;5;241;43m3\u001b[39;49m\u001b[43m]\u001b[49m \u001b[38;5;241m=\u001b[39m \u001b[38;5;124m'\u001b[39m\u001b[38;5;124mU\u001b[39m\u001b[38;5;124m'\u001b[39m\n",
      "\u001b[0;31mTypeError\u001b[0m: 'tuple' object does not support item assignment"
     ]
    }
   ],
   "source": [
    "# try to set the fourth item of nucleotides_tuple to 'U'. Why did you get an error?\n",
    "nucleotides_tuple[3] = 'U'"
   ]
  },
  {
   "cell_type": "markdown",
   "metadata": {},
   "source": [
    "### Recap of data types\n",
    "\n",
    "| Collection Type | Description | Creation Example Code | Accessing Example | Ordered/Unordered | Mutable/Immutable |\n",
    "|-----------------|-------------|-----------------------|-------------------|-------------------|-------------------|\n",
    "| Lists           | A collection of items. | my_list = ['string 1', 'string 2', 'string 3'] | item_3 = my_list[2] | Ordered | Mutable |\n",
    "| Dictionaries    | A collection of key/value pairs. | my_dict = {'key1': 'value1', 'key2': 'value2'} | value2 = my_dict['key2'] | Unordered | Mutable |\n",
    "| Tuples          | A collection of items. | my_tuple = ('item 1', 'item 2', 'item 3') | item_2 = my_tuple[1] | Ordered | Immutable |\n",
    "| Sets            | A collection of unique items. | my_set = {'item 1', 'item 2', 'item 3'} | for item in my_set: pass # Example of iteration | Unordered | Immutable |\n",
    "| Strings         | A collection of text characters. | my_string = 'Hello, World!' | char = my_string[7] | Ordered | Immutable |\n",
    "\n",
    "ordered = can get value at a given index by number\n",
    "<br>\n",
    "mutable = can be changed\n",
    "\n",
    "You can iterate over all of these with `for` loops.\n"
   ]
  },
  {
   "cell_type": "markdown",
   "metadata": {},
   "source": [
    "### Introduction to Functions\n",
    "\n",
    "Functions in Python are like little helpers that do a specific job. Think of them as mini-programs inside your main program. To create a function:\n",
    "\n",
    "1. **Start with `def`**: Every function starts with the keyword `def`, short for \"define.\" It tells Python that you're about to create a function. After `def`, you write the name you want to give your function.\n",
    "\n",
    "2. **Use parentheses `()`**: After the function name, you put parentheses. Inside these parentheses, you can list things the function needs to know to do its job. These are called 'arguments.' If your function doesn't need any extra info, you can leave the parentheses empty.\n",
    "\n",
    "3. **Write your code**: Underneath `def`, you write the instructions you want the function to follow. This is the code that runs every time you use your function.\n",
    "\n",
    "4. **`return` gives back a value**: If you want your function to give you something back, like a result, use the word `return`. After `return`, you put what you want to get back.\n",
    "\n",
    "### Basic Example: Adding 1 to a Number\n",
    "\n",
    "```python\n",
    "def add_one(number):\n",
    "    return number + 1\n",
    "\n",
    "# Using the function\n",
    "result = add_one(5)  # This tells the function to work with the number 5\n",
    "print(result)  # It will print 6, because 5 + 1 is 6\n",
    "\n",
    "```\n",
    "\n",
    "### Why use functions?\n",
    "\n",
    "1. Easy to reuse code - define once, use whenever\n",
    "2. Modularize your code - break down problem into pieces, write and test the pieces first\n",
    "3. Makes code easy to read and edit by future you and others"
   ]
  },
  {
   "cell_type": "code",
   "execution_count": 10,
   "metadata": {},
   "outputs": [
    {
     "name": "stdout",
     "output_type": "stream",
     "text": [
      "3.1415\n"
     ]
    }
   ],
   "source": [
    "# write and test a function called print_pi that prints 3.1415\n",
    "def print_pi():\n",
    "    print(3.1415)\n",
    "\n",
    "print_pi()"
   ]
  },
  {
   "cell_type": "code",
   "execution_count": 13,
   "metadata": {},
   "outputs": [
    {
     "data": {
      "text/plain": [
       "3.1415"
      ]
     },
     "execution_count": 13,
     "metadata": {},
     "output_type": "execute_result"
    }
   ],
   "source": [
    "# write a function called return_pi can be used to define a pi_variable\n",
    "def return_pi():\n",
    "    return 3.1415\n",
    "\n",
    "pi = return_pi()\n",
    "\n",
    "pi"
   ]
  },
  {
   "cell_type": "code",
   "execution_count": 17,
   "metadata": {},
   "outputs": [
    {
     "name": "stdout",
     "output_type": "stream",
     "text": [
      "-31\n"
     ]
    }
   ],
   "source": [
    "# write a function that takes in a number and prints three plus the number\n",
    "def print_three_plus_number(number):\n",
    "    print(number + 3)\n",
    "\n",
    "new_value = print_three_plus_number(-34)\n",
    "\n",
    "new_value"
   ]
  },
  {
   "cell_type": "code",
   "execution_count": 18,
   "metadata": {},
   "outputs": [
    {
     "data": {
      "text/plain": [
       "15"
      ]
     },
     "execution_count": 18,
     "metadata": {},
     "output_type": "execute_result"
    }
   ],
   "source": [
    "# write a function that takes in a number and returns five plus the number\n",
    "def return_five_plus_number(number):\n",
    "    return number + 5\n",
    "\n",
    "val = return_five_plus_number(10)\n",
    "\n",
    "val"
   ]
  },
  {
   "cell_type": "code",
   "execution_count": 19,
   "metadata": {},
   "outputs": [
    {
     "name": "stdout",
     "output_type": "stream",
     "text": [
      "123\n"
     ]
    }
   ],
   "source": [
    "# write a function that takes in two numbers, and prints their sum\n",
    "def find_sum(number_1, number_2):\n",
    "    print(number_1 + number_2)\n",
    "\n",
    "find_sum(72, 51)"
   ]
  },
  {
   "cell_type": "code",
   "execution_count": 20,
   "metadata": {},
   "outputs": [
    {
     "name": "stdout",
     "output_type": "stream",
     "text": [
      "90\n"
     ]
    }
   ],
   "source": [
    "# write a function that takes in two numbers and returns the sum\n",
    "def return_sum(number_1, number_2):\n",
    "    print(number_1 + number_2)\n",
    "\n",
    "return_sum(81, 9)"
   ]
  },
  {
   "cell_type": "markdown",
   "metadata": {},
   "source": [
    "### Scoping: variables inside functions live in their own namespace.\n",
    "\n",
    "The idea is that you don't have to worry about the variable names inside a function - they are private."
   ]
  },
  {
   "cell_type": "code",
   "execution_count": 21,
   "metadata": {},
   "outputs": [
    {
     "ename": "NameError",
     "evalue": "name 'number_1' is not defined",
     "output_type": "error",
     "traceback": [
      "\u001b[0;31m---------------------------------------------------------------------------\u001b[0m",
      "\u001b[0;31mNameError\u001b[0m                                 Traceback (most recent call last)",
      "Cell \u001b[0;32mIn[21], line 2\u001b[0m\n\u001b[1;32m      1\u001b[0m \u001b[38;5;66;03m# What happens to variables inside a function? Why are they not accessible?\u001b[39;00m\n\u001b[0;32m----> 2\u001b[0m \u001b[38;5;28mprint\u001b[39m(\u001b[43mnumber_1\u001b[49m)\n",
      "\u001b[0;31mNameError\u001b[0m: name 'number_1' is not defined"
     ]
    }
   ],
   "source": [
    "# What happens to variables inside a function? Why are they not accessible?\n",
    "print(number_1)"
   ]
  },
  {
   "cell_type": "markdown",
   "metadata": {},
   "source": [
    "### Putting default values in function arguments\n",
    "\n",
    "You can specify default values for function arguments, making it optional for the user to provide an argument. When specifying the arguments that your function can take, order matters: all arguments without defaults come first, then the arguments with defaults.\n"
   ]
  },
  {
   "cell_type": "code",
   "execution_count": 24,
   "metadata": {},
   "outputs": [
    {
     "name": "stdout",
     "output_type": "stream",
     "text": [
      "-1200\n"
     ]
    }
   ],
   "source": [
    "# define a function to multiply two numbers and have the default inputs be 4 and 5\n",
    "def find_product(num_1 = 4, num_2 = 5):\n",
    "    print(num_1 * num_2)\n",
    "\n",
    "find_product(num_1 = 400, num_2 = -3)"
   ]
  },
  {
   "cell_type": "code",
   "execution_count": 25,
   "metadata": {},
   "outputs": [
    {
     "name": "stdout",
     "output_type": "stream",
     "text": [
      "-12\n"
     ]
    }
   ],
   "source": [
    "# run the function only changing one of the inputs and print it\n",
    "find_product(num_2 = -3)"
   ]
  },
  {
   "cell_type": "markdown",
   "metadata": {},
   "source": [
    "### Importing pre-written functions from packages"
   ]
  },
  {
   "cell_type": "code",
   "execution_count": 29,
   "metadata": {},
   "outputs": [
    {
     "name": "stdout",
     "output_type": "stream",
     "text": [
      "13\n"
     ]
    }
   ],
   "source": [
    "# import the random package (https://docs.python.org/3/library/random.html)\n",
    "# print a random integer between 0 and 100 using random.randint(lower_bound, upper_bound)\n",
    "\n",
    "import random\n",
    "\n",
    "print(random.randint(0, 100))\n"
   ]
  },
  {
   "cell_type": "code",
   "execution_count": 34,
   "metadata": {},
   "outputs": [
    {
     "data": {
      "text/plain": [
       "[0.3528044159472957, 0.9262457562747551]"
      ]
     },
     "execution_count": 34,
     "metadata": {},
     "output_type": "execute_result"
    }
   ],
   "source": [
    "# define a function to return a list of random numbers between 0 and 1 of user defined length using random.random()\n",
    "\n",
    "def random_list(list_length):\n",
    "    rand_list = []\n",
    "    for index in range(list_length):\n",
    "        random_number = random.random()\n",
    "        rand_list.append(random_number)\n",
    "\n",
    "    return rand_list\n",
    "\n",
    "\n",
    "random_list(2)"
   ]
  },
  {
   "cell_type": "markdown",
   "metadata": {},
   "source": [
    "### `None` is a special value in Python\n",
    "\n",
    "1. Note syntax coloring indicating keyword.\n",
    "\n",
    "2. Not limited to functions, but all functions will return `None` by default if there are no other return values."
   ]
  },
  {
   "cell_type": "code",
   "execution_count": 35,
   "metadata": {},
   "outputs": [
    {
     "data": {
      "text/plain": [
       "False"
      ]
     },
     "execution_count": 35,
     "metadata": {},
     "output_type": "execute_result"
    }
   ],
   "source": [
    "# None is a unique null value. Check if None is equal to 0\n",
    "my_value = None\n",
    "\n",
    "my_value == 0"
   ]
  },
  {
   "cell_type": "code",
   "execution_count": 36,
   "metadata": {},
   "outputs": [
    {
     "data": {
      "text/plain": [
       "False"
      ]
     },
     "execution_count": 36,
     "metadata": {},
     "output_type": "execute_result"
    }
   ],
   "source": [
    "# Check if None is equal to a blank list.\n",
    "my_list = []\n",
    "\n",
    "my_value == my_list\n",
    "\n"
   ]
  },
  {
   "cell_type": "code",
   "execution_count": 37,
   "metadata": {},
   "outputs": [
    {
     "name": "stdout",
     "output_type": "stream",
     "text": [
      "None\n"
     ]
    }
   ],
   "source": [
    "# Check what happens if you print the result of a function to appends to a list\n",
    "print(my_list.append(91))\n"
   ]
  },
  {
   "cell_type": "markdown",
   "metadata": {},
   "source": [
    "There are important considerations for functions that act on lists, which we'll cover in the next lecture."
   ]
  },
  {
   "cell_type": "markdown",
   "metadata": {},
   "source": [
    "### Additional resources for learning Python\n",
    "\n",
    "The following are good resources for teaching yourself more about Python:\n",
    "\n",
    "**The official Python Tutorial:** https://docs.python.org/3.10/tutorial/index.html\n",
    "A clear, detailed introduction to the basics of Python. Most of the topics in sections 1-5 will now be familiar to you.\n",
    "\n",
    "**Software Carptentry Python Lessons:** \n",
    "http://swcarpentry.github.io/python-novice-inflammation/\n",
    "http://swcarpentry.github.io/python-novice-gapminder/\n",
    "\n",
    "A tutorial aimed at biologists that takes a somewhat different approach from the one in this class.\n",
    "\n",
    "**Bernd Klein's Python 3 tutorial:** https://www.python-course.eu/python3_interactive.php\n",
    "\n",
    "Includes some great illustrations demonstrating Python concepts.\n",
    "\n",
    "**Google's Python Course** https://developers.google.com/edu/python/\n",
    "A concise, basic introduction, but it doesn't include some important topics that we'll cover in this class. "
   ]
  }
 ],
 "metadata": {
  "kernelspec": {
   "display_name": "Python 3",
   "language": "python",
   "name": "python3"
  },
  "language_info": {
   "codemirror_mode": {
    "name": "ipython",
    "version": 3
   },
   "file_extension": ".py",
   "mimetype": "text/x-python",
   "name": "python",
   "nbconvert_exporter": "python",
   "pygments_lexer": "ipython3",
   "version": "3.10.12"
  }
 },
 "nbformat": 4,
 "nbformat_minor": 2
}
