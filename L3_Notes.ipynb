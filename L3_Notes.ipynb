{
 "cells": [
  {
   "cell_type": "markdown",
   "metadata": {},
   "source": [
    "# Lecture 3 Topics\n",
    "\n",
    "- the `enumerate` function\n",
    "- the `tuple` data type\n",
    "- introduction to `functions`\n",
    "- the `None` value in Python"
   ]
  },
  {
   "cell_type": "markdown",
   "metadata": {},
   "source": [
    "### The enumerate function"
   ]
  },
  {
   "cell_type": "code",
   "execution_count": null,
   "metadata": {},
   "outputs": [],
   "source": [
    "nucleotides = ['adenine', 'cytosine', 'guanine', 'thymine']\n",
    "\n",
    "# write a loop to print the four nucleotides\n"
   ]
  },
  {
   "cell_type": "code",
   "execution_count": null,
   "metadata": {},
   "outputs": [],
   "source": [
    "nucleotides = ['adenine', 'cytosine', 'guanine', 'thymine']\n",
    "\n",
    "# write a loop using the enumerate function to print the index and name of each nucleotide\n"
   ]
  },
  {
   "cell_type": "code",
   "execution_count": null,
   "metadata": {},
   "outputs": [],
   "source": [
    "nucleotides = ['adenine', 'cytosine', 'guanine', 'thymine']\n",
    "\n",
    "# print the list of values returned by the enumerate function\n"
   ]
  },
  {
   "cell_type": "markdown",
   "metadata": {},
   "source": [
    "### Tuples - a list like data type\n",
    "Tuples hold ordered items like a list, but between parentheses."
   ]
  },
  {
   "cell_type": "code",
   "execution_count": null,
   "metadata": {},
   "outputs": [],
   "source": [
    "nucleotides_tuple = ('A', 'C', 'G','T')\n",
    "\n",
    "# print the first item in nucleotides_tuple"
   ]
  },
  {
   "cell_type": "code",
   "execution_count": null,
   "metadata": {},
   "outputs": [],
   "source": [
    "# try to set the fourth item of nucleotides_tuple to 'U'. Why did you get an error?"
   ]
  },
  {
   "cell_type": "markdown",
   "metadata": {},
   "source": [
    "### Recap of data Types\n",
    "\n",
    "| Collection Type | Description | Creation Example Code | Accessing Example | Ordered/Unordered | Mutable/Immutable |\n",
    "|-----------------|-------------|-----------------------|-------------------|-------------------|-------------------|\n",
    "| Lists           | A collection of items. | my_list = ['string 1', 'string 2', 'string 3'] | item_3 = my_list[2] | Ordered | Mutable |\n",
    "| Dictionaries    | A collection of key/value pairs. | my_dict = {'key1': 'value1', 'key2': 'value2'} | value2 = my_dict['key2'] | Unordered | Mutable |\n",
    "| Tuples          | A collection of items. | my_tuple = ('item 1', 'item 2', 'item 3') | item_2 = my_tuple[1] | Ordered | Immutable |\n",
    "| Sets            | A collection of unique items. | my_set = {'item 1', 'item 2', 'item 3'} | for item in my_set: pass # Example of iteration | Unordered | Immutable |\n",
    "| Strings         | A collection of text characters. | my_string = 'Hello, World!' | char = my_string[7] | Ordered | Immutable |\n",
    "\n",
    "ordered = can get value at a given index by number\n",
    "<br>\n",
    "mutable = can be changed\n",
    "\n",
    "You can iterate over all of these with `for` loops.\n"
   ]
  },
  {
   "cell_type": "markdown",
   "metadata": {},
   "source": [
    "### Introduction to Functions\n",
    "\n",
    "Functions in Python are like little helpers that do a specific job. Think of them as mini-programs inside your main program. To create a function:\n",
    "\n",
    "1. **Start with `def`**: Every function starts with the keyword `def`, short for \"define.\" It tells Python that you're about to create a function. After `def`, you write the name you want to give your function.\n",
    "\n",
    "2. **Use parentheses `()`**: After the function name, you put parentheses. Inside these parentheses, you can list things the function needs to know to do its job. These are called 'arguments.' If your function doesn't need any extra info, you can leave the parentheses empty.\n",
    "\n",
    "3. **Write your code**: Underneath `def`, you write the instructions you want the function to follow. This is the code that runs every time you use your function.\n",
    "\n",
    "4. **`return` gives back a value**: If you want your function to give you something back, like a result, use the word `return`. After `return`, you put what you want to get back.\n",
    "\n",
    "### Basic Example: Adding 1 to a Number\n",
    "\n",
    "```python\n",
    "def add_one(number):\n",
    "    return number + 1\n",
    "\n",
    "# Using the function\n",
    "result = add_one(5)  # This tells the function to work with the number 5\n",
    "print(result)  # It will print 6, because 5 + 1 is 6\n",
    "\n",
    "```\n",
    "\n",
    "### Why use functions?\n",
    "\n",
    "1. Easy to reuse code - define once, use whenever\n",
    "2. Modularize your code - break down problem into pieces, write and test the pieces first\n",
    "3. Makes code easy to read and edit by future you and others"
   ]
  },
  {
   "cell_type": "code",
   "execution_count": null,
   "metadata": {},
   "outputs": [],
   "source": [
    "# write and test a function called print_pi that prints 3.1415\n"
   ]
  },
  {
   "cell_type": "code",
   "execution_count": null,
   "metadata": {},
   "outputs": [],
   "source": [
    "# write a function called return_pi can be used to define a pi_variable\n"
   ]
  },
  {
   "cell_type": "code",
   "execution_count": null,
   "metadata": {},
   "outputs": [],
   "source": [
    "# write a function that takes in a number and prints three plus the number\n"
   ]
  },
  {
   "cell_type": "code",
   "execution_count": null,
   "metadata": {},
   "outputs": [],
   "source": [
    "# write a function that takes in a number and returns five plus the number"
   ]
  },
  {
   "cell_type": "code",
   "execution_count": null,
   "metadata": {},
   "outputs": [],
   "source": [
    "# write a function that takes in two numbers, and prints their sum"
   ]
  },
  {
   "cell_type": "code",
   "execution_count": null,
   "metadata": {},
   "outputs": [],
   "source": [
    "# write a function that takes in two numbers and returns the sum"
   ]
  },
  {
   "cell_type": "markdown",
   "metadata": {},
   "source": [
    "### Scoping: variables inside functions live in their own namespace.\n",
    "\n",
    "The idea is that you don't have to worry about the variable names inside a function - they are private."
   ]
  },
  {
   "cell_type": "code",
   "execution_count": null,
   "metadata": {},
   "outputs": [],
   "source": [
    "# What happens to variables inside a function? Why are they not accessible?"
   ]
  },
  {
   "cell_type": "markdown",
   "metadata": {},
   "source": [
    "### Putting default values in function arguments\n",
    "\n",
    "You can specify default values for function arguments, making it optional for the user to provide an argument. When specifying the arguments that your function can take, order matters: all arguments without defaults come first, then the arguments with defaults.\n"
   ]
  },
  {
   "cell_type": "code",
   "execution_count": null,
   "metadata": {},
   "outputs": [],
   "source": [
    "# define a function to multiply two numbers and have the default inputs be 4 and 5"
   ]
  },
  {
   "cell_type": "code",
   "execution_count": null,
   "metadata": {},
   "outputs": [],
   "source": [
    "# run the function only changing one of the inputs and print it"
   ]
  },
  {
   "cell_type": "markdown",
   "metadata": {},
   "source": [
    "### Importing pre-written functions from packages"
   ]
  },
  {
   "cell_type": "code",
   "execution_count": null,
   "metadata": {},
   "outputs": [],
   "source": [
    "# import the random package (https://docs.python.org/3/library/random.html)\n",
    "# print a random integer between 0 and 100 using random.randint(lower_bound, upper_bound)\n",
    "\n"
   ]
  },
  {
   "cell_type": "code",
   "execution_count": null,
   "metadata": {},
   "outputs": [],
   "source": [
    "# define a function to return a list of random numbers between 0 and 1 of variable length using random.random()\n",
    "\n"
   ]
  },
  {
   "cell_type": "markdown",
   "metadata": {},
   "source": [
    "### `None` is a special value in Python\n",
    "\n",
    "1. Note syntax coloring indicating keyword.\n",
    "\n",
    "2. Not limited to functions, but all functions will return `None` by default if there are no other return values."
   ]
  },
  {
   "cell_type": "code",
   "execution_count": null,
   "metadata": {},
   "outputs": [],
   "source": [
    "# None is a unique null value. Check if None is equal to 0\n",
    "my_value = None\n",
    "\n"
   ]
  },
  {
   "cell_type": "code",
   "execution_count": null,
   "metadata": {},
   "outputs": [],
   "source": [
    "# Check if None is equal to a blank list.\n",
    "my_list = []\n",
    "\n"
   ]
  },
  {
   "cell_type": "code",
   "execution_count": null,
   "metadata": {},
   "outputs": [],
   "source": [
    "# Check if None a value in an empty list\n",
    "\n"
   ]
  },
  {
   "cell_type": "code",
   "execution_count": null,
   "metadata": {},
   "outputs": [],
   "source": [
    "# Check what happens if you print the result of a function to appends to a list\n",
    "\n"
   ]
  },
  {
   "cell_type": "markdown",
   "metadata": {},
   "source": [
    "There are important considerations for functions that act on lists, which we'll cover in the next lecture."
   ]
  },
  {
   "cell_type": "markdown",
   "metadata": {},
   "source": [
    "### Additional resources for learning Python\n",
    "\n",
    "The following are good resources for teaching yourself more about Python:\n",
    "\n",
    "**The official Python Tutorial:** https://docs.python.org/3.10/tutorial/index.html\n",
    "A clear, detailed introduction to the basics of Python. Most of the topics in sections 1-5 will now be familiar to you.\n",
    "\n",
    "**Software Carptentry Python Lessons:** \n",
    "http://swcarpentry.github.io/python-novice-inflammation/\n",
    "http://swcarpentry.github.io/python-novice-gapminder/\n",
    "\n",
    "A tutorial aimed at biologists that takes a somewhat different approach from the one in this class.\n",
    "\n",
    "**Bernd Klein's Python 3 tutorial:** https://www.python-course.eu/python3_interactive.php\n",
    "\n",
    "Includes some great illustrations demonstrating Python concepts.\n",
    "\n",
    "**Google's Python Course** https://developers.google.com/edu/python/\n",
    "A concise, basic introduction, but it doesn't include some important topics that we'll cover in this class. "
   ]
  }
 ],
 "metadata": {
  "kernelspec": {
   "display_name": "Python 3",
   "language": "python",
   "name": "python3"
  },
  "language_info": {
   "codemirror_mode": {
    "name": "ipython",
    "version": 3
   },
   "file_extension": ".py",
   "mimetype": "text/x-python",
   "name": "python",
   "nbconvert_exporter": "python",
   "pygments_lexer": "ipython3",
   "version": "3.10.12"
  }
 },
 "nbformat": 4,
 "nbformat_minor": 2
}
